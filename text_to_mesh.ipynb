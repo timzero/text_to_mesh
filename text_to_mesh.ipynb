{
 "cells": [
  {
   "cell_type": "markdown",
   "metadata": {},
   "source": [
    "# Text to Mesh"
   ]
  },
  {
   "cell_type": "markdown",
   "metadata": {},
   "source": [
    "### Import modules and set up device"
   ]
  },
  {
   "cell_type": "code",
   "execution_count": null,
   "metadata": {},
   "outputs": [],
   "source": [
    "import os\n",
    "import sys\n",
    "import torch\n",
    "import matplotlib.pyplot as plt\n",
    "import numpy as np\n",
    "from tqdm.notebook import tqdm\n",
    "from PIL import Image\n",
    "\n",
    "# Setup\n",
    "if torch.cuda.is_available():\n",
    "    device = torch.device(\"cuda:0\")\n",
    "    torch.cuda.set_device(device)\n",
    "else:\n",
    "    device = torch.device(\"cpu\")\n"
   ]
  },
  {
   "cell_type": "markdown",
   "metadata": {},
   "source": [
    "### Create __[Stable Diffusion pipeline](https://huggingface.co/docs/diffusers/api/pipelines/stable_diffusion/text2img)__ using diffusers and generate an image"
   ]
  },
  {
   "cell_type": "code",
   "execution_count": null,
   "metadata": {},
   "outputs": [],
   "source": [
    "from diffusers import StableDiffusionPipeline\n",
    "\n",
    "IMG_SIZE = 512  # @param {type:\"integer\"}\n",
    "\n",
    "pipe = StableDiffusionPipeline.from_pretrained(\"runwayml/stable-diffusion-v1-5\", torch_dtype=torch.float16)\n",
    "pipe = pipe.to(\"cuda\")\n",
    "\n",
    "prompt = \"interior of a mountain chalet by frank lloyd wright\"\n",
    "image = pipe(prompt, height=IMG_SIZE, width=IMG_SIZE, num_inference_steps=30).images[0]\n",
    "plt.imshow(image)"
   ]
  },
  {
   "cell_type": "markdown",
   "metadata": {},
   "source": [
    "### Create __[DPT Depth Estimation pipeline](https://huggingface.co/docs/transformers/main/en/model_doc/dpt#transformers.DPTForDepthEstimation)__ and generate depth map image"
   ]
  },
  {
   "cell_type": "code",
   "execution_count": null,
   "metadata": {},
   "outputs": [],
   "source": [
    "from transformers import pipeline\n",
    "from PIL import Image\n",
    "pipe = pipeline(\"depth-estimation\", model=\"Intel/dpt-large\")\n",
    "result = pipe(image)\n",
    "depth_img = result[\"depth\"]\n"
   ]
  },
  {
   "cell_type": "markdown",
   "metadata": {},
   "source": [
    "### Invert depth values and construct a rgbd image"
   ]
  },
  {
   "cell_type": "code",
   "execution_count": null,
   "metadata": {},
   "outputs": [],
   "source": [
    "import open3d as o3d\n",
    "\n",
    "width, height = image.size\n",
    "\n",
    "depths = np.array(depth_img)\n",
    "depths = depths.max() - depths\n",
    "\n",
    "# create rgbd image\n",
    "depth_o3d = o3d.geometry.Image((depths  ).astype('uint8'))\n",
    "image_o3d = o3d.geometry.Image(np.array(image))\n",
    "rgbd_image = o3d.geometry.RGBDImage.create_from_color_and_depth(image_o3d, depth_o3d, convert_rgb_to_intensity=False)\n",
    "\n"
   ]
  },
  {
   "cell_type": "markdown",
   "metadata": {},
   "source": [
    "### Create a camera and use to construct a point cloud from the rgbd image"
   ]
  },
  {
   "cell_type": "code",
   "execution_count": null,
   "metadata": {},
   "outputs": [],
   "source": [
    "# camera settings\n",
    "camera_intrinsic = o3d.camera.PinholeCameraIntrinsic()\n",
    "camera_intrinsic.set_intrinsics(width, height, 500, 500, width/2, height/2)\n",
    "\n",
    "# create point cloud\n",
    "pcd = o3d.geometry.PointCloud.create_from_rgbd_image(rgbd_image, camera_intrinsic)\n",
    "\n",
    "# estimate normals\n",
    "pcd.estimate_normals()\n",
    "pcd.orient_normals_to_align_with_direction((0, 0, -1))\n",
    "\n",
    "# remove points that are too close to the camera\n",
    "min_distance_from_camera = 0.0002\n",
    "points = np.asarray(pcd.points)\n",
    "ind = np.where(points[:,2] > min_distance_from_camera)[0]\n",
    "pcd = pcd.select_by_index(ind)\n",
    "\n",
    "# visualize the point cloud\n",
    "o3d.visualization.draw_geometries(\n",
    "    [pcd],\n",
    "    zoom=0.5,\n",
    "    front=pcd.get_center() - [0, 0, 0.1],\n",
    "    lookat=pcd.get_center(),\n",
    "    up=[0, -1, 0]\n",
    ")\n",
    "\n"
   ]
  },
  {
   "cell_type": "markdown",
   "metadata": {},
   "source": [
    "### Use __[Poisson surface reconstruction](http://www.open3d.org/docs/latest/tutorial/Advanced/surface_reconstruction.html#Poisson-surface-reconstruction)__ to convert point cloud to mesh"
   ]
  },
  {
   "cell_type": "code",
   "execution_count": null,
   "metadata": {},
   "outputs": [],
   "source": [
    "# surface reconstruction\n",
    "mesh, densities = o3d.geometry.TriangleMesh.create_from_point_cloud_poisson(pcd, depth=10, n_threads=1)\n",
    "vertices_to_remove = densities < np.quantile(densities, 0.05)\n",
    "mesh.remove_vertices_by_mask(vertices_to_remove)\n",
    "\n",
    "\n",
    "o3d.visualization.draw_geometries(\n",
    "    [mesh], zoom=0.5,\n",
    "    front=pcd.get_center() - [0, 0, 1],\n",
    "    lookat=pcd.get_center(),\n",
    "    up=[0, -1, 0],\n",
    "    mesh_show_back_face=True,\n",
    ")\n",
    "\n"
   ]
  },
  {
   "cell_type": "markdown",
   "metadata": {},
   "source": [
    "### Save mesh"
   ]
  },
  {
   "cell_type": "code",
   "execution_count": null,
   "metadata": {},
   "outputs": [],
   "source": [
    "import time\n",
    "basename = \"_\".join(prompt.split(\" \")[:10]) + f\"-{int(time.time())}\"\n",
    "o3d.io.write_triangle_mesh(f\"{basename}.ply\",\n",
    "                               mesh,\n",
    "                               write_triangle_uvs=True)\n",
    "\n",
    "image.save(f\"images/{basename}.png\")"
   ]
  }
 ],
 "metadata": {
  "kernelspec": {
   "display_name": "Python 3 (ipykernel)",
   "language": "python",
   "name": "python3"
  },
  "language_info": {
   "codemirror_mode": {
    "name": "ipython",
    "version": 3
   },
   "file_extension": ".py",
   "mimetype": "text/x-python",
   "name": "python",
   "nbconvert_exporter": "python",
   "pygments_lexer": "ipython3",
   "version": "3.10.12"
  }
 },
 "nbformat": 4,
 "nbformat_minor": 2
}
